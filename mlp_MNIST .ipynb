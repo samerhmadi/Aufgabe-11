{
 "cells": [
  {
   "cell_type": "markdown",
   "metadata": {},
   "source": [
    "# ANN Intro\n",
    "\n",
    "This NB is constructed such that it also runs in reasonable time on Laptop CPUs (e.g. an i3)"
   ]
  },
  {
   "cell_type": "markdown",
   "metadata": {},
   "source": [
    "## Local Setup\n",
    "\n",
    "There are different options to set up the TensorFlow library (which now includes [Keras](https://keras.io) as backend library) on your own computer. The simplest of them is using only the CPU and can be installed in 1 command via [`conda`](https://docs.anaconda.com/anaconda/user-guide/tasks/tensorflow/), in an anaconda shell run:\n",
    "\n",
    "```\n",
    "conda install tensorflow\n",
    "```\n",
    "\n",
    "**NOTE**: TF migth not be compatible with your current environment, so here we create a [new environment](https://conda.io/docs/user-guide/tasks/manage-environments.html#creating-an-environment-with-commands) first:\n",
    "\n",
    "```\n",
    "conda create -n tf tensorflow\n",
    "conda activate tf\n",
    "```\n",
    "\n",
    "In that case you need to install jupyter, scikit-learn, matplotlib, numpy and pandas in that environment again, with e.g.:\n",
    "\n",
    "```\n",
    "conda install jupyter scikit-learn matplotlib numpy pandas\n",
    "```\n",
    "\n",
    "(If you have a [supported Nvidia graphics card](https://developer.nvidia.com/cuda-gpus) in your machine and would like to use it for accelerated network training, make sure to follow [this guide](https://www.tensorflow.org/install/gpu) to install required packages and finally use the `tensorflow-gpu` library.)\n",
    "\n",
    "The usage of the TensorFlow library in Python will be the same for CPU and GPU."
   ]
  },
  {
   "cell_type": "code",
   "execution_count": 2,
   "metadata": {},
   "outputs": [
    {
     "data": {
      "text/plain": [
       "dict_keys(['data', 'target', 'frame', 'categories', 'feature_names', 'target_names', 'DESCR', 'details', 'url'])"
      ]
     },
     "execution_count": 2,
     "metadata": {},
     "output_type": "execute_result"
    }
   ],
   "source": [
    "## fetch MNIST dataset (as done in last NB)\n",
    "from sklearn.datasets import fetch_openml\n",
    "mnist = fetch_openml('mnist_784', version=1) # ('MNIST original')\n",
    "mnist.keys()"
   ]
  },
  {
   "cell_type": "code",
   "execution_count": 13,
   "metadata": {},
   "outputs": [
    {
     "name": "stdout",
     "output_type": "stream",
     "text": [
      "(70000, 784)\n",
      "(50000, 784)\n"
     ]
    }
   ],
   "source": [
    "## Scale the input data into the range [0, 1]\n",
    "from sklearn.model_selection import train_test_split\n",
    "X, y= mnist[\"data\"], mnist[\"target\"]\n",
    "X  = X/255.0\n",
    "print (X.shape)\n",
    "\n",
    "\n",
    "## use sklearn's train_test_split to split the data into \n",
    "\n",
    "## 50000 instances for training (X_train, y_train), 10000 for validation (X_val, y_val) and 10000 for testing (X_test, y_test)\n",
    "X_train, X_test, y_train, y_test  = train_test_split(X, y, test_size=10000, random_state=42)\n",
    "\n",
    "X_train, X_val, y_train, y_val   = train_test_split(X_train, y_train, test_size=10000, random_state=42) \n",
    "print (X_train.shape)"
   ]
  },
  {
   "cell_type": "code",
   "execution_count": 49,
   "metadata": {},
   "outputs": [
    {
     "name": "stdout",
     "output_type": "stream",
     "text": [
      "{'activation': 'relu', 'alpha': 0.0001, 'batch_size': 'auto', 'beta_1': 0.9, 'beta_2': 0.999, 'early_stopping': False, 'epsilon': 1e-08, 'hidden_layer_sizes': (100,), 'learning_rate': 'constant', 'learning_rate_init': 0.001, 'max_fun': 15000, 'max_iter': 200, 'momentum': 0.9, 'n_iter_no_change': 10, 'nesterovs_momentum': True, 'power_t': 0.5, 'random_state': 42, 'shuffle': True, 'solver': 'adam', 'tol': 0.0001, 'validation_fraction': 0.1, 'verbose': False, 'warm_start': False}\n",
      "Wall time: 1min 38s\n"
     ]
    }
   ],
   "source": [
    "## load an MLP classifier from sklearn with all its defaults, only specifying `random_state=42`\n",
    "from sklearn.neural_network import MLPClassifier\n",
    "mlp = MLPClassifier(random_state=42)\n",
    "\n",
    "\n",
    "## try printing out the sizes of the hidden layers, the number of layers and the number of output neurons/units\n",
    "print(mlp.get_params())\n",
    "print(mlp_2.hidden_layer_sizes)\n",
    "\n",
    "## train the MLP with the train set, time its execution\n",
    "%time mlp=mlp.fit(X_train, y_train)\n",
    "## try again printing out the sizes of the hidden layers, the number of layers and the number of output neurons/units\n"
   ]
  },
  {
   "cell_type": "code",
   "execution_count": 45,
   "metadata": {},
   "outputs": [
    {
     "name": "stdout",
     "output_type": "stream",
     "text": [
      "Training set score: 0.998960\n",
      "Test set score: 0.970700\n"
     ]
    }
   ],
   "source": [
    "## print the scores of the trained MLP on the train and on the test set:\n",
    "print(\"Training set score: %f\" % mlp.score(X_train, y_train) )\n",
    "print(\"Test set score: %f\" % mlp.score(X_test, y_test))"
   ]
  },
  {
   "cell_type": "markdown",
   "metadata": {},
   "source": [
    "### Questions 1\n",
    "\n",
    "1. What are the default values assumed for the MLPClassifier of sklearn?\n",
    "2. What MLP ist constructed with the defaults? \\\n",
    "   I.e. how many hidden layers and how many input, hidden and output neurons/units does the MLP have?\n",
    "\n",
    "### Answers\n",
    "\n",
    "1. the default values : \n",
    "{'activation': 'relu', 'alpha': 0.0001, 'batch_size': 100, 'beta_1': 0.9, 'beta_2': 0.999, 'early_stopping': False, 'epsilon': 1e-08, 'hidden_layer_sizes': 2, 'learning_rate': 'constant', 'learning_rate_init': 0.001, 'max_fun': 15000, 'max_iter': 200, 'momentum': 0.9, 'n_iter_no_change': 10, 'nesterovs_momentum': True, 'power_t': 0.5, 'random_state': 42, 'shuffle': True, 'solver': 'adam', 'tol': 0.0001, 'validation_fraction': 0.1, 'verbose': False, 'warm_start': False}\n",
    "\n",
    "2. \n",
    "hidden_layer =1\n",
    "\n",
    "input neurons= 50000\n",
    "\n",
    "hidden layer neurons= 100\n",
    "\n",
    "outputlayer neurons = 10\n"
   ]
  },
  {
   "cell_type": "code",
   "execution_count": 56,
   "metadata": {
    "scrolled": true
   },
   "outputs": [
    {
     "name": "stdout",
     "output_type": "stream",
     "text": [
      "(100, 50)\n",
      "Wall time: 2min 5s\n"
     ]
    }
   ],
   "source": [
    "## Now construct another MLP classifier as above but with 2 hidden layers of 100 and 50 neurons/units.\n",
    "## In addition it should used mini-batch gradient descent (mBGD) with a mini-batch size of 100\n",
    "mlp_2 = MLPClassifier(random_state=42,hidden_layer_sizes = (100,50),batch_size=100)\n",
    "## and train only for 100 epochs.\n",
    "mlp_2 = MLPClassifier(random_state=42,hidden_layer_sizes = (100,50),batch_size=100,max_iter=100)\n",
    "## try printing out the sizes of the hidden layers, the number of layers and the number of output neurons/units\n",
    "print(mlp_2.hidden_layer_sizes)\n",
    "## train the MLP with the train set, time its execution\n",
    "%time mlp_2 = MLPClassifier(random_state=42,hidden_layer_sizes = (100,50),batch_size=100,max_iter=100).fit(X_train, y_train)\n",
    "## try again printing out the sizes of the hidden layers, the number of layers and the number of output neurons/units\n"
   ]
  },
  {
   "cell_type": "code",
   "execution_count": 57,
   "metadata": {},
   "outputs": [
    {
     "name": "stdout",
     "output_type": "stream",
     "text": [
      "Training set score: 0.997360\n",
      "Test set score: 0.971800\n"
     ]
    }
   ],
   "source": [
    "## print the scores of the trained MLP on the train and on the test set:\n",
    "print(\"Training set score: %f\" % mlp_2.score(X_train, y_train))\n",
    "print(\"Test set score: %f\" % mlp_2.score(X_test, y_test))"
   ]
  },
  {
   "cell_type": "code",
   "execution_count": 64,
   "metadata": {},
   "outputs": [
    {
     "name": "stdout",
     "output_type": "stream",
     "text": [
      "84060\n"
     ]
    }
   ],
   "source": [
    "def n_params(model): # from: https://stackoverflow.com/questions/59078110/way-to-count-the-number-of-parameters-in-a-scikit-learn-model\n",
    "    \"\"\"Return total number of parameters in a \n",
    "    Scikit-Learn model.\n",
    "\n",
    "    This works for the following model types:\n",
    "     - sklearn.neural_network.MLPClassifier\n",
    "     - sklearn.neural_network.MLPRegressor\n",
    "     - sklearn.linear_model.LinearRegression\n",
    "     - and maybe some others\n",
    "    \"\"\"\n",
    "    return (sum([a.size for a in model.coefs_]) +  \n",
    "            sum([a.size for a in model.intercepts_]))\n",
    "\n",
    "## use the given function to get the number of model parameters of the last MLP\n",
    "par_num= n_params(mlp_2)\n",
    "print(par_num)"
   ]
  },
  {
   "cell_type": "markdown",
   "metadata": {},
   "source": [
    "### Questions 2\n",
    "\n",
    "1. Does the returned number of parameters match your expectations? Write down your own calculation!\n",
    "\n",
    "\n",
    "### Answers\n",
    "\n",
    "1. "
   ]
  },
  {
   "cell_type": "code",
   "execution_count": 61,
   "metadata": {},
   "outputs": [
    {
     "data": {
      "image/png": "[encoded data removed]",
      "text/plain": [
       "<Figure size 432x288 with 100 Axes>"
      ]
     },
     "metadata": {},
     "output_type": "display_data"
    }
   ],
   "source": [
    "## Now use the example from: https://scikit-learn.org/stable/auto_examples/neural_networks/plot_mnist_filters.html\n",
    "## to plot ALL weight matrices of the first layer of the MLP trained above\n",
    "## using subplots with 20 columns.\n",
    "import matplotlib.pyplot as plt\n",
    "fig, axes = plt.subplots(5, 20)\n",
    "vmin, vmax = mlp_2.coefs_[0].min(), mlp_2.coefs_[0].max()\n",
    "for coef, ax in zip(mlp_2.coefs_[0].T, axes.ravel()):\n",
    "    ax.matshow(coef.reshape(28, 28), cmap=plt.cm.gray, vmin=.5 * vmin,\n",
    "               vmax=.5 * vmax)\n",
    "    ax.set_xticks(())\n",
    "    ax.set_yticks(())\n",
    "\n",
    "plt.show()\n"
   ]
  },
  {
   "cell_type": "markdown",
   "metadata": {},
   "source": [
    "Now it's time to test your TensorFlow installation by importing the package. The following code cell should execute without errors:"
   ]
  },
  {
   "cell_type": "code",
   "execution_count": 68,
   "metadata": {},
   "outputs": [],
   "source": [
    "import tensorflow as tf"
   ]
  },
  {
   "cell_type": "markdown",
   "metadata": {},
   "source": [
    "Now let's check which computing devices TensorFlow has found on this machine. If you don't have the GPU setup on your computer, the list should just contain one CPU: `/device:CPU:0` "
   ]
  },
  {
   "cell_type": "code",
   "execution_count": 66,
   "metadata": {},
   "outputs": [
    {
     "name": "stdout",
     "output_type": "stream",
     "text": [
      "[name: \"/device:CPU:0\"\n",
      "device_type: \"CPU\"\n",
      "memory_limit: 268435456\n",
      "locality {\n",
      "}\n",
      "incarnation: 12091816428630043739\n",
      "]\n"
     ]
    }
   ],
   "source": [
    "from tensorflow.python.client import device_lib\n",
    "print(device_lib.list_local_devices())"
   ]
  },
  {
   "cell_type": "markdown",
   "metadata": {},
   "source": [
    "The cell below creates a similar MLP as above using tf.keras, see also this [tutorial network](https://github.com/keras-team/keras/blob/fcc0bfa354c5a47625d681d0297a66ef9ff43a9e/examples/mnist_mlp.py) which also uses the MNIST dataset.\n",
    "\n",
    "Keras has a nice method `model.summary()` that prints a tabular overview of your network architecture, together with the input/output dimensions and number of parameters for each layer."
   ]
  },
  {
   "cell_type": "code",
   "execution_count": 71,
   "metadata": {},
   "outputs": [
    {
     "name": "stdout",
     "output_type": "stream",
     "text": [
      "2.3.0\n",
      "2.4.0\n",
      "50000 train samples\n",
      "10000 test samples\n",
      "Model: \"sequential_1\"\n",
      "_________________________________________________________________\n",
      "Layer (type)                 Output Shape              Param #   \n",
      "=================================================================\n",
      "dense_3 (Dense)              (None, 250)               196250    \n",
      "_________________________________________________________________\n",
      "dense_4 (Dense)              (None, 100)               25100     \n",
      "_________________________________________________________________\n",
      "dense_5 (Dense)              (None, 10)                1010      \n",
      "=================================================================\n",
      "Total params: 222,360\n",
      "Trainable params: 222,360\n",
      "Non-trainable params: 0\n",
      "_________________________________________________________________\n",
      "Epoch 1/200\n",
      "500/500 [==============================] - 2s 4ms/step - loss: 0.2814 - accuracy: 0.9193 - val_loss: 0.1436 - val_accuracy: 0.9576\n",
      "Epoch 2/200\n",
      "500/500 [==============================] - 2s 3ms/step - loss: 0.1075 - accuracy: 0.9671 - val_loss: 0.1122 - val_accuracy: 0.9657\n",
      "Epoch 3/200\n",
      "500/500 [==============================] - 2s 3ms/step - loss: 0.0698 - accuracy: 0.9784 - val_loss: 0.1015 - val_accuracy: 0.9707\n",
      "Epoch 4/200\n",
      "500/500 [==============================] - 2s 4ms/step - loss: 0.0498 - accuracy: 0.9840 - val_loss: 0.0880 - val_accuracy: 0.9719\n",
      "Epoch 5/200\n",
      "500/500 [==============================] - 2s 4ms/step - loss: 0.0382 - accuracy: 0.9877 - val_loss: 0.0882 - val_accuracy: 0.9728\n",
      "Epoch 6/200\n",
      "500/500 [==============================] - 2s 4ms/step - loss: 0.0291 - accuracy: 0.9905 - val_loss: 0.0961 - val_accuracy: 0.9724\n",
      "Epoch 7/200\n",
      "500/500 [==============================] - 2s 4ms/step - loss: 0.0210 - accuracy: 0.9934 - val_loss: 0.0967 - val_accuracy: 0.9720\n",
      "Epoch 8/200\n",
      "500/500 [==============================] - 2s 3ms/step - loss: 0.0186 - accuracy: 0.9941 - val_loss: 0.0904 - val_accuracy: 0.9748\n",
      "Epoch 9/200\n",
      "500/500 [==============================] - 2s 3ms/step - loss: 0.0111 - accuracy: 0.9967 - val_loss: 0.1050 - val_accuracy: 0.9730\n",
      "Epoch 10/200\n",
      "500/500 [==============================] - 2s 3ms/step - loss: 0.0121 - accuracy: 0.9960 - val_loss: 0.1013 - val_accuracy: 0.9758\n",
      "Epoch 11/200\n",
      "500/500 [==============================] - 2s 3ms/step - loss: 0.0170 - accuracy: 0.9943 - val_loss: 0.1056 - val_accuracy: 0.9755\n",
      "Epoch 12/200\n",
      "500/500 [==============================] - 2s 4ms/step - loss: 0.0128 - accuracy: 0.9956 - val_loss: 0.1229 - val_accuracy: 0.9721\n",
      "Epoch 13/200\n",
      "500/500 [==============================] - 2s 4ms/step - loss: 0.0091 - accuracy: 0.9972 - val_loss: 0.1092 - val_accuracy: 0.9763\n",
      "Epoch 14/200\n",
      "500/500 [==============================] - 2s 4ms/step - loss: 0.0114 - accuracy: 0.9964 - val_loss: 0.1306 - val_accuracy: 0.9714\n",
      "Epoch 15/200\n",
      "500/500 [==============================] - 2s 4ms/step - loss: 0.0087 - accuracy: 0.9974 - val_loss: 0.1227 - val_accuracy: 0.9752\n",
      "Epoch 16/200\n",
      "500/500 [==============================] - 2s 4ms/step - loss: 0.0052 - accuracy: 0.9985 - val_loss: 0.1253 - val_accuracy: 0.9750\n",
      "Epoch 17/200\n",
      "500/500 [==============================] - 2s 4ms/step - loss: 0.0085 - accuracy: 0.9969 - val_loss: 0.1551 - val_accuracy: 0.9689\n",
      "Epoch 18/200\n",
      "500/500 [==============================] - 2s 4ms/step - loss: 0.0090 - accuracy: 0.9969 - val_loss: 0.1223 - val_accuracy: 0.9774\n",
      "Epoch 19/200\n",
      "500/500 [==============================] - 2s 5ms/step - loss: 0.0055 - accuracy: 0.9982 - val_loss: 0.1278 - val_accuracy: 0.9766\n",
      "Epoch 20/200\n",
      "500/500 [==============================] - 2s 4ms/step - loss: 0.0121 - accuracy: 0.9959 - val_loss: 0.1375 - val_accuracy: 0.9740\n",
      "Epoch 21/200\n",
      "500/500 [==============================] - 2s 4ms/step - loss: 0.0047 - accuracy: 0.9983 - val_loss: 0.1201 - val_accuracy: 0.9766\n",
      "Epoch 22/200\n",
      "500/500 [==============================] - 2s 4ms/step - loss: 0.0022 - accuracy: 0.9994 - val_loss: 0.1118 - val_accuracy: 0.9781\n",
      "Epoch 23/200\n",
      "500/500 [==============================] - 2s 4ms/step - loss: 0.0047 - accuracy: 0.9985 - val_loss: 0.1332 - val_accuracy: 0.9753\n",
      "Epoch 24/200\n",
      "500/500 [==============================] - 2s 4ms/step - loss: 0.0123 - accuracy: 0.9960 - val_loss: 0.1552 - val_accuracy: 0.9726\n",
      "Epoch 25/200\n",
      "500/500 [==============================] - 2s 4ms/step - loss: 0.0049 - accuracy: 0.9982 - val_loss: 0.1292 - val_accuracy: 0.9779\n",
      "Epoch 26/200\n",
      "500/500 [==============================] - 2s 4ms/step - loss: 0.0012 - accuracy: 0.9998 - val_loss: 0.1331 - val_accuracy: 0.9763\n",
      "Epoch 27/200\n",
      "500/500 [==============================] - 2s 4ms/step - loss: 0.0058 - accuracy: 0.9981 - val_loss: 0.1558 - val_accuracy: 0.9749\n",
      "Epoch 28/200\n",
      "500/500 [==============================] - 2s 4ms/step - loss: 0.0090 - accuracy: 0.9971 - val_loss: 0.1607 - val_accuracy: 0.9756\n",
      "Epoch 29/200\n",
      "500/500 [==============================] - 2s 4ms/step - loss: 0.0075 - accuracy: 0.9977 - val_loss: 0.1429 - val_accuracy: 0.9759\n",
      "Epoch 30/200\n",
      "500/500 [==============================] - 2s 4ms/step - loss: 0.0016 - accuracy: 0.9996 - val_loss: 0.1273 - val_accuracy: 0.9794\n",
      "Epoch 31/200\n",
      "500/500 [==============================] - 2s 4ms/step - loss: 0.0033 - accuracy: 0.9991 - val_loss: 0.1344 - val_accuracy: 0.9777\n",
      "Epoch 32/200\n",
      "500/500 [==============================] - 2s 4ms/step - loss: 0.0102 - accuracy: 0.9967 - val_loss: 0.1548 - val_accuracy: 0.9763\n",
      "Epoch 33/200\n",
      "500/500 [==============================] - 2s 4ms/step - loss: 0.0058 - accuracy: 0.9979 - val_loss: 0.1624 - val_accuracy: 0.9745\n",
      "Epoch 34/200\n",
      "500/500 [==============================] - 2s 4ms/step - loss: 0.0029 - accuracy: 0.9991 - val_loss: 0.1445 - val_accuracy: 0.9771\n",
      "Epoch 35/200\n",
      "500/500 [==============================] - 2s 4ms/step - loss: 0.0013 - accuracy: 0.9996 - val_loss: 0.1326 - val_accuracy: 0.9795\n",
      "Epoch 36/200\n",
      "500/500 [==============================] - 2s 4ms/step - loss: 6.0795e-04 - accuracy: 0.9999 - val_loss: 0.1348 - val_accuracy: 0.9791\n",
      "Epoch 37/200\n",
      "500/500 [==============================] - 2s 4ms/step - loss: 0.0112 - accuracy: 0.9963 - val_loss: 0.1562 - val_accuracy: 0.9758\n",
      "Epoch 38/200\n",
      "500/500 [==============================] - 2s 4ms/step - loss: 0.0059 - accuracy: 0.9982 - val_loss: 0.1453 - val_accuracy: 0.9785\n",
      "Epoch 39/200\n",
      "500/500 [==============================] - 2s 4ms/step - loss: 0.0044 - accuracy: 0.9985 - val_loss: 0.1659 - val_accuracy: 0.9765\n",
      "Epoch 40/200\n",
      "500/500 [==============================] - 2s 4ms/step - loss: 0.0045 - accuracy: 0.9984 - val_loss: 0.1486 - val_accuracy: 0.9761\n",
      "Epoch 41/200\n",
      "500/500 [==============================] - 2s 4ms/step - loss: 0.0048 - accuracy: 0.9985 - val_loss: 0.1340 - val_accuracy: 0.9782\n",
      "Epoch 42/200\n",
      "500/500 [==============================] - 2s 4ms/step - loss: 0.0032 - accuracy: 0.9992 - val_loss: 0.1444 - val_accuracy: 0.9781\n",
      "Epoch 43/200\n",
      "500/500 [==============================] - 2s 4ms/step - loss: 0.0037 - accuracy: 0.9988 - val_loss: 0.1552 - val_accuracy: 0.9770\n",
      "Epoch 44/200\n",
      "500/500 [==============================] - 2s 4ms/step - loss: 0.0046 - accuracy: 0.9985 - val_loss: 0.1575 - val_accuracy: 0.9775\n",
      "Epoch 45/200\n",
      "500/500 [==============================] - 2s 4ms/step - loss: 0.0038 - accuracy: 0.9989 - val_loss: 0.1686 - val_accuracy: 0.9767\n",
      "Epoch 46/200\n",
      "500/500 [==============================] - 2s 5ms/step - loss: 0.0038 - accuracy: 0.9988 - val_loss: 0.1641 - val_accuracy: 0.9782\n",
      "Epoch 47/200\n",
      "500/500 [==============================] - 2s 4ms/step - loss: 0.0060 - accuracy: 0.9982 - val_loss: 0.1578 - val_accuracy: 0.9784\n",
      "Epoch 48/200\n",
      "500/500 [==============================] - 2s 4ms/step - loss: 0.0014 - accuracy: 0.9997 - val_loss: 0.1613 - val_accuracy: 0.9773\n",
      "Epoch 49/200\n",
      "500/500 [==============================] - 2s 4ms/step - loss: 0.0010 - accuracy: 0.9997 - val_loss: 0.1700 - val_accuracy: 0.9777\n",
      "Epoch 50/200\n",
      "500/500 [==============================] - 2s 4ms/step - loss: 0.0070 - accuracy: 0.9976 - val_loss: 0.1666 - val_accuracy: 0.9792\n",
      "Epoch 51/200\n",
      "500/500 [==============================] - 2s 4ms/step - loss: 0.0028 - accuracy: 0.9990 - val_loss: 0.1794 - val_accuracy: 0.9753\n",
      "Epoch 52/200\n"
     ]
    },
    {
     "name": "stdout",
     "output_type": "stream",
     "text": [
      "500/500 [==============================] - 2s 4ms/step - loss: 0.0045 - accuracy: 0.9986 - val_loss: 0.1797 - val_accuracy: 0.9761\n",
      "Epoch 53/200\n",
      "500/500 [==============================] - 2s 4ms/step - loss: 0.0045 - accuracy: 0.9988 - val_loss: 0.1650 - val_accuracy: 0.9788\n",
      "Epoch 54/200\n",
      "500/500 [==============================] - 2s 5ms/step - loss: 0.0040 - accuracy: 0.9988 - val_loss: 0.1721 - val_accuracy: 0.9782\n",
      "Epoch 55/200\n",
      "500/500 [==============================] - 2s 4ms/step - loss: 0.0034 - accuracy: 0.9989 - val_loss: 0.1999 - val_accuracy: 0.9746\n",
      "Epoch 56/200\n",
      "500/500 [==============================] - 2s 4ms/step - loss: 0.0023 - accuracy: 0.9993 - val_loss: 0.1653 - val_accuracy: 0.9797\n",
      "Epoch 57/200\n",
      "500/500 [==============================] - 2s 4ms/step - loss: 0.0024 - accuracy: 0.9993 - val_loss: 0.1723 - val_accuracy: 0.9781\n",
      "Epoch 58/200\n",
      "500/500 [==============================] - 2s 4ms/step - loss: 0.0054 - accuracy: 0.9986 - val_loss: 0.1767 - val_accuracy: 0.9769\n",
      "Epoch 59/200\n",
      "500/500 [==============================] - 2s 4ms/step - loss: 0.0040 - accuracy: 0.9988 - val_loss: 0.1839 - val_accuracy: 0.9775\n",
      "Epoch 60/200\n",
      "500/500 [==============================] - 2s 4ms/step - loss: 0.0012 - accuracy: 0.9997 - val_loss: 0.1643 - val_accuracy: 0.9788\n",
      "Epoch 61/200\n",
      "500/500 [==============================] - 2s 4ms/step - loss: 0.0029 - accuracy: 0.9991 - val_loss: 0.2071 - val_accuracy: 0.9755\n",
      "Epoch 62/200\n",
      "500/500 [==============================] - 2s 4ms/step - loss: 0.0049 - accuracy: 0.9988 - val_loss: 0.1851 - val_accuracy: 0.9780\n",
      "Epoch 63/200\n",
      "500/500 [==============================] - 2s 4ms/step - loss: 0.0075 - accuracy: 0.9981 - val_loss: 0.2189 - val_accuracy: 0.9735\n",
      "Epoch 64/200\n",
      "500/500 [==============================] - 2s 4ms/step - loss: 0.0035 - accuracy: 0.9989 - val_loss: 0.1661 - val_accuracy: 0.9778\n",
      "Epoch 65/200\n",
      "500/500 [==============================] - 2s 4ms/step - loss: 0.0018 - accuracy: 0.9994 - val_loss: 0.2020 - val_accuracy: 0.9757\n",
      "Epoch 66/200\n",
      "500/500 [==============================] - 2s 4ms/step - loss: 0.0019 - accuracy: 0.9994 - val_loss: 0.1734 - val_accuracy: 0.9776\n",
      "Epoch 67/200\n",
      "500/500 [==============================] - 2s 4ms/step - loss: 0.0048 - accuracy: 0.9987 - val_loss: 0.1873 - val_accuracy: 0.9760\n",
      "Epoch 68/200\n",
      "500/500 [==============================] - 2s 4ms/step - loss: 0.0018 - accuracy: 0.9995 - val_loss: 0.1910 - val_accuracy: 0.9774\n",
      "Epoch 69/200\n",
      "500/500 [==============================] - 2s 4ms/step - loss: 0.0014 - accuracy: 0.9996 - val_loss: 0.2057 - val_accuracy: 0.9756\n",
      "Epoch 70/200\n",
      "500/500 [==============================] - 2s 4ms/step - loss: 0.0033 - accuracy: 0.9991 - val_loss: 0.1771 - val_accuracy: 0.9775\n",
      "Epoch 71/200\n",
      "500/500 [==============================] - 2s 4ms/step - loss: 0.0015 - accuracy: 0.9995 - val_loss: 0.2148 - val_accuracy: 0.9774\n",
      "Epoch 72/200\n",
      "500/500 [==============================] - 2s 4ms/step - loss: 0.0039 - accuracy: 0.9988 - val_loss: 0.2291 - val_accuracy: 0.9758\n",
      "Epoch 73/200\n",
      "500/500 [==============================] - 2s 4ms/step - loss: 0.0038 - accuracy: 0.9988 - val_loss: 0.1850 - val_accuracy: 0.9776\n",
      "Epoch 74/200\n",
      "500/500 [==============================] - 2s 4ms/step - loss: 0.0039 - accuracy: 0.9990 - val_loss: 0.1887 - val_accuracy: 0.9787\n",
      "Epoch 75/200\n",
      "500/500 [==============================] - 2s 4ms/step - loss: 0.0012 - accuracy: 0.9996 - val_loss: 0.1872 - val_accuracy: 0.9785\n",
      "Epoch 76/200\n",
      "500/500 [==============================] - 2s 4ms/step - loss: 0.0016 - accuracy: 0.9994 - val_loss: 0.2167 - val_accuracy: 0.9764\n",
      "Epoch 77/200\n",
      "500/500 [==============================] - 2s 4ms/step - loss: 0.0043 - accuracy: 0.9988 - val_loss: 0.2162 - val_accuracy: 0.9740\n",
      "Epoch 78/200\n",
      "500/500 [==============================] - 2s 4ms/step - loss: 0.0040 - accuracy: 0.9992 - val_loss: 0.1872 - val_accuracy: 0.9778\n",
      "Epoch 79/200\n",
      "500/500 [==============================] - 2s 4ms/step - loss: 0.0010 - accuracy: 0.9997 - val_loss: 0.1975 - val_accuracy: 0.9785\n",
      "Epoch 80/200\n",
      "500/500 [==============================] - 2s 4ms/step - loss: 6.6794e-04 - accuracy: 0.9998 - val_loss: 0.2139 - val_accuracy: 0.9777\n",
      "Epoch 81/200\n",
      "500/500 [==============================] - 2s 4ms/step - loss: 0.0028 - accuracy: 0.9994 - val_loss: 0.2158 - val_accuracy: 0.9750\n",
      "Epoch 82/200\n",
      "500/500 [==============================] - 2s 4ms/step - loss: 0.0054 - accuracy: 0.9988 - val_loss: 0.1990 - val_accuracy: 0.9770\n",
      "Epoch 83/200\n",
      "500/500 [==============================] - 2s 4ms/step - loss: 0.0040 - accuracy: 0.9989 - val_loss: 0.1945 - val_accuracy: 0.9769\n",
      "Epoch 84/200\n",
      "500/500 [==============================] - 2s 4ms/step - loss: 9.5435e-04 - accuracy: 0.9997 - val_loss: 0.1762 - val_accuracy: 0.9788\n",
      "Epoch 85/200\n",
      "500/500 [==============================] - 2s 4ms/step - loss: 5.4276e-04 - accuracy: 0.9998 - val_loss: 0.2007 - val_accuracy: 0.9771\n",
      "Epoch 86/200\n",
      "500/500 [==============================] - 2s 5ms/step - loss: 0.0014 - accuracy: 0.9996 - val_loss: 0.2302 - val_accuracy: 0.9762\n",
      "Epoch 87/200\n",
      "500/500 [==============================] - 2s 4ms/step - loss: 0.0066 - accuracy: 0.9981 - val_loss: 0.2478 - val_accuracy: 0.9741\n",
      "Epoch 88/200\n",
      "500/500 [==============================] - 2s 4ms/step - loss: 0.0024 - accuracy: 0.9992 - val_loss: 0.2035 - val_accuracy: 0.9801\n",
      "Epoch 89/200\n",
      "500/500 [==============================] - 2s 4ms/step - loss: 8.2026e-04 - accuracy: 0.9997 - val_loss: 0.1942 - val_accuracy: 0.9793\n",
      "Epoch 90/200\n",
      "500/500 [==============================] - 2s 4ms/step - loss: 1.3927e-04 - accuracy: 0.9999 - val_loss: 0.1903 - val_accuracy: 0.9794\n",
      "Epoch 91/200\n",
      "500/500 [==============================] - 2s 4ms/step - loss: 8.4095e-06 - accuracy: 1.0000 - val_loss: 0.1910 - val_accuracy: 0.9800\n",
      "Epoch 92/200\n",
      "500/500 [==============================] - 2s 4ms/step - loss: 3.9784e-06 - accuracy: 1.0000 - val_loss: 0.1908 - val_accuracy: 0.9796\n",
      "Epoch 93/200\n",
      "500/500 [==============================] - 2s 5ms/step - loss: 3.0280e-06 - accuracy: 1.0000 - val_loss: 0.1907 - val_accuracy: 0.9798\n",
      "Epoch 94/200\n",
      "500/500 [==============================] - 2s 4ms/step - loss: 2.4691e-06 - accuracy: 1.0000 - val_loss: 0.1907 - val_accuracy: 0.9799\n",
      "Epoch 95/200\n",
      "500/500 [==============================] - 2s 4ms/step - loss: 2.0483e-06 - accuracy: 1.0000 - val_loss: 0.1909 - val_accuracy: 0.9799\n",
      "Epoch 96/200\n",
      "500/500 [==============================] - 2s 5ms/step - loss: 1.7199e-06 - accuracy: 1.0000 - val_loss: 0.1911 - val_accuracy: 0.9798\n",
      "Epoch 97/200\n",
      "500/500 [==============================] - 2s 4ms/step - loss: 1.4488e-06 - accuracy: 1.0000 - val_loss: 0.1913 - val_accuracy: 0.9799\n",
      "Epoch 98/200\n",
      "500/500 [==============================] - 2s 4ms/step - loss: 1.2170e-06 - accuracy: 1.0000 - val_loss: 0.1917 - val_accuracy: 0.9801\n",
      "Epoch 99/200\n",
      "500/500 [==============================] - 2s 4ms/step - loss: 1.0259e-06 - accuracy: 1.0000 - val_loss: 0.1921 - val_accuracy: 0.9800\n",
      "Epoch 100/200\n",
      "500/500 [==============================] - 2s 4ms/step - loss: 8.6491e-07 - accuracy: 1.0000 - val_loss: 0.1927 - val_accuracy: 0.9801\n",
      "Epoch 101/200\n",
      "500/500 [==============================] - 2s 5ms/step - loss: 7.2643e-07 - accuracy: 1.0000 - val_loss: 0.1933 - val_accuracy: 0.9803\n",
      "Epoch 102/200\n",
      "500/500 [==============================] - 2s 4ms/step - loss: 6.0860e-07 - accuracy: 1.0000 - val_loss: 0.1942 - val_accuracy: 0.9804\n",
      "Epoch 103/200\n",
      "500/500 [==============================] - 2s 4ms/step - loss: 5.0788e-07 - accuracy: 1.0000 - val_loss: 0.1949 - val_accuracy: 0.9804\n",
      "Epoch 104/200\n",
      "500/500 [==============================] - 2s 4ms/step - loss: 4.2097e-07 - accuracy: 1.0000 - val_loss: 0.1956 - val_accuracy: 0.9804\n",
      "Epoch 105/200\n",
      "500/500 [==============================] - 2s 4ms/step - loss: 3.4870e-07 - accuracy: 1.0000 - val_loss: 0.1965 - val_accuracy: 0.9802\n",
      "Epoch 106/200\n",
      "500/500 [==============================] - 2s 4ms/step - loss: 2.8745e-07 - accuracy: 1.0000 - val_loss: 0.1975 - val_accuracy: 0.9803\n",
      "Epoch 107/200\n",
      "500/500 [==============================] - 2s 5ms/step - loss: 2.3591e-07 - accuracy: 1.0000 - val_loss: 0.1986 - val_accuracy: 0.9802\n",
      "Epoch 108/200\n"
     ]
    },
    {
     "name": "stdout",
     "output_type": "stream",
     "text": [
      "500/500 [==============================] - 2s 4ms/step - loss: 1.9268e-07 - accuracy: 1.0000 - val_loss: 0.2000 - val_accuracy: 0.9804\n",
      "Epoch 109/200\n",
      "500/500 [==============================] - 2s 4ms/step - loss: 1.5723e-07 - accuracy: 1.0000 - val_loss: 0.2011 - val_accuracy: 0.9805\n",
      "Epoch 110/200\n",
      "500/500 [==============================] - 2s 4ms/step - loss: 1.2822e-07 - accuracy: 1.0000 - val_loss: 0.2024 - val_accuracy: 0.9805\n",
      "Epoch 111/200\n",
      "500/500 [==============================] - 2s 4ms/step - loss: 1.0395e-07 - accuracy: 1.0000 - val_loss: 0.2036 - val_accuracy: 0.9805\n",
      "Epoch 112/200\n",
      "500/500 [==============================] - 2s 4ms/step - loss: 8.4095e-08 - accuracy: 1.0000 - val_loss: 0.2048 - val_accuracy: 0.9806\n",
      "Epoch 113/200\n",
      "500/500 [==============================] - 2s 4ms/step - loss: 6.8209e-08 - accuracy: 1.0000 - val_loss: 0.2064 - val_accuracy: 0.9808\n",
      "Epoch 114/200\n",
      "500/500 [==============================] - 2s 4ms/step - loss: 5.5120e-08 - accuracy: 1.0000 - val_loss: 0.2078 - val_accuracy: 0.9807\n",
      "Epoch 115/200\n",
      "500/500 [==============================] - 2s 4ms/step - loss: 4.4508e-08 - accuracy: 1.0000 - val_loss: 0.2093 - val_accuracy: 0.9808\n",
      "Epoch 116/200\n",
      "500/500 [==============================] - 2s 4ms/step - loss: 3.6092e-08 - accuracy: 1.0000 - val_loss: 0.2108 - val_accuracy: 0.9806\n",
      "Epoch 117/200\n",
      "500/500 [==============================] - 2s 4ms/step - loss: 2.9056e-08 - accuracy: 1.0000 - val_loss: 0.2123 - val_accuracy: 0.9805\n",
      "Epoch 118/200\n",
      "500/500 [==============================] - 2s 4ms/step - loss: 2.3572e-08 - accuracy: 1.0000 - val_loss: 0.2138 - val_accuracy: 0.9805\n",
      "Epoch 119/200\n",
      "500/500 [==============================] - 2s 4ms/step - loss: 1.9023e-08 - accuracy: 1.0000 - val_loss: 0.2158 - val_accuracy: 0.9805\n",
      "Epoch 120/200\n",
      "500/500 [==============================] - 2s 4ms/step - loss: 1.5485e-08 - accuracy: 1.0000 - val_loss: 0.2172 - val_accuracy: 0.9804\n",
      "Epoch 121/200\n",
      "500/500 [==============================] - 2s 4ms/step - loss: 1.2722e-08 - accuracy: 1.0000 - val_loss: 0.2189 - val_accuracy: 0.9803\n",
      "Epoch 122/200\n",
      "500/500 [==============================] - 2s 4ms/step - loss: 1.0381e-08 - accuracy: 1.0000 - val_loss: 0.2201 - val_accuracy: 0.9804\n",
      "Epoch 123/200\n",
      "500/500 [==============================] - 2s 4ms/step - loss: 8.6355e-09 - accuracy: 1.0000 - val_loss: 0.2215 - val_accuracy: 0.9802\n",
      "Epoch 124/200\n",
      "500/500 [==============================] - 2s 4ms/step - loss: 7.1454e-09 - accuracy: 1.0000 - val_loss: 0.2228 - val_accuracy: 0.9802\n",
      "Epoch 125/200\n",
      "500/500 [==============================] - 2s 4ms/step - loss: 5.9700e-09 - accuracy: 1.0000 - val_loss: 0.2244 - val_accuracy: 0.9802\n",
      "Epoch 126/200\n",
      "500/500 [==============================] - 2s 4ms/step - loss: 5.0187e-09 - accuracy: 1.0000 - val_loss: 0.2258 - val_accuracy: 0.9803\n",
      "Epoch 127/200\n",
      "500/500 [==============================] - 2s 4ms/step - loss: 4.2701e-09 - accuracy: 1.0000 - val_loss: 0.2269 - val_accuracy: 0.9803\n",
      "Epoch 128/200\n",
      "500/500 [==============================] - 2s 4ms/step - loss: 3.5954e-09 - accuracy: 1.0000 - val_loss: 0.2281 - val_accuracy: 0.9803\n",
      "Epoch 129/200\n",
      "500/500 [==============================] - 2s 4ms/step - loss: 3.0875e-09 - accuracy: 1.0000 - val_loss: 0.2292 - val_accuracy: 0.9803\n",
      "Epoch 130/200\n",
      "500/500 [==============================] - 2s 4ms/step - loss: 2.6774e-09 - accuracy: 1.0000 - val_loss: 0.2303 - val_accuracy: 0.9803\n",
      "Epoch 131/200\n",
      "500/500 [==============================] - 2s 4ms/step - loss: 2.3341e-09 - accuracy: 1.0000 - val_loss: 0.2314 - val_accuracy: 0.9803\n",
      "Epoch 132/200\n",
      "500/500 [==============================] - 2s 4ms/step - loss: 2.0695e-09 - accuracy: 1.0000 - val_loss: 0.2321 - val_accuracy: 0.9804\n",
      "Epoch 133/200\n",
      "500/500 [==============================] - 2s 4ms/step - loss: 1.7953e-09 - accuracy: 1.0000 - val_loss: 0.2330 - val_accuracy: 0.9803\n",
      "Epoch 134/200\n",
      "500/500 [==============================] - 2s 4ms/step - loss: 1.5712e-09 - accuracy: 1.0000 - val_loss: 0.2339 - val_accuracy: 0.9805\n",
      "Epoch 135/200\n",
      "500/500 [==============================] - 2s 4ms/step - loss: 1.4043e-09 - accuracy: 1.0000 - val_loss: 0.2343 - val_accuracy: 0.9804\n",
      "Epoch 136/200\n",
      "500/500 [==============================] - 2s 4ms/step - loss: 1.2612e-09 - accuracy: 1.0000 - val_loss: 0.2353 - val_accuracy: 0.9805\n",
      "Epoch 137/200\n",
      "500/500 [==============================] - 2s 4ms/step - loss: 1.1063e-09 - accuracy: 1.0000 - val_loss: 0.2359 - val_accuracy: 0.9805\n",
      "Epoch 138/200\n",
      "500/500 [==============================] - 2s 4ms/step - loss: 1.0180e-09 - accuracy: 1.0000 - val_loss: 0.2362 - val_accuracy: 0.9805\n",
      "Epoch 139/200\n",
      "500/500 [==============================] - 2s 4ms/step - loss: 9.1553e-10 - accuracy: 1.0000 - val_loss: 0.2369 - val_accuracy: 0.9806\n",
      "Epoch 140/200\n",
      "500/500 [==============================] - 2s 4ms/step - loss: 8.2970e-10 - accuracy: 1.0000 - val_loss: 0.2373 - val_accuracy: 0.9805\n",
      "Epoch 141/200\n",
      "500/500 [==============================] - 2s 4ms/step - loss: 7.4863e-10 - accuracy: 1.0000 - val_loss: 0.2377 - val_accuracy: 0.9804\n",
      "Epoch 142/200\n",
      "500/500 [==============================] - 2s 4ms/step - loss: 6.9857e-10 - accuracy: 1.0000 - val_loss: 0.2381 - val_accuracy: 0.9804\n",
      "Epoch 143/200\n",
      "500/500 [==============================] - 2s 4ms/step - loss: 6.5565e-10 - accuracy: 1.0000 - val_loss: 0.2384 - val_accuracy: 0.9803\n",
      "Epoch 144/200\n",
      "500/500 [==============================] - 2s 4ms/step - loss: 6.0797e-10 - accuracy: 1.0000 - val_loss: 0.2385 - val_accuracy: 0.9804\n",
      "Epoch 145/200\n",
      "500/500 [==============================] - 2s 4ms/step - loss: 5.4598e-10 - accuracy: 1.0000 - val_loss: 0.2387 - val_accuracy: 0.9804\n",
      "Epoch 146/200\n",
      "500/500 [==============================] - 2s 4ms/step - loss: 5.5313e-10 - accuracy: 1.0000 - val_loss: 0.2388 - val_accuracy: 0.9803\n",
      "Epoch 147/200\n",
      "500/500 [==============================] - 2s 5ms/step - loss: 4.9114e-10 - accuracy: 1.0000 - val_loss: 0.2390 - val_accuracy: 0.9805\n",
      "Epoch 148/200\n",
      "500/500 [==============================] - 2s 4ms/step - loss: 4.5776e-10 - accuracy: 1.0000 - val_loss: 0.2390 - val_accuracy: 0.9803\n",
      "Epoch 149/200\n",
      "500/500 [==============================] - 2s 4ms/step - loss: 4.5300e-10 - accuracy: 1.0000 - val_loss: 0.2392 - val_accuracy: 0.9803\n",
      "Epoch 150/200\n",
      "500/500 [==============================] - 2s 4ms/step - loss: 4.2439e-10 - accuracy: 1.0000 - val_loss: 0.2393 - val_accuracy: 0.9803\n",
      "Epoch 151/200\n",
      "500/500 [==============================] - 2s 4ms/step - loss: 4.0770e-10 - accuracy: 1.0000 - val_loss: 0.2394 - val_accuracy: 0.9804\n",
      "Epoch 152/200\n",
      "500/500 [==============================] - 2s 4ms/step - loss: 3.6716e-10 - accuracy: 1.0000 - val_loss: 0.2394 - val_accuracy: 0.9802\n",
      "Epoch 153/200\n",
      "500/500 [==============================] - 2s 5ms/step - loss: 3.6716e-10 - accuracy: 1.0000 - val_loss: 0.2394 - val_accuracy: 0.9803\n",
      "Epoch 154/200\n",
      "500/500 [==============================] - 2s 4ms/step - loss: 3.5524e-10 - accuracy: 1.0000 - val_loss: 0.2393 - val_accuracy: 0.9804\n",
      "Epoch 155/200\n",
      "500/500 [==============================] - 2s 5ms/step - loss: 3.3855e-10 - accuracy: 1.0000 - val_loss: 0.2395 - val_accuracy: 0.9802\n",
      "Epoch 156/200\n",
      "500/500 [==============================] - 2s 4ms/step - loss: 3.2902e-10 - accuracy: 1.0000 - val_loss: 0.2395 - val_accuracy: 0.9802\n",
      "Epoch 157/200\n",
      "500/500 [==============================] - 2s 4ms/step - loss: 3.1948e-10 - accuracy: 1.0000 - val_loss: 0.2395 - val_accuracy: 0.9803\n",
      "Epoch 158/200\n",
      "500/500 [==============================] - 2s 4ms/step - loss: 2.8849e-10 - accuracy: 1.0000 - val_loss: 0.2395 - val_accuracy: 0.9803\n",
      "Epoch 159/200\n",
      "500/500 [==============================] - 2s 4ms/step - loss: 2.9802e-10 - accuracy: 1.0000 - val_loss: 0.2394 - val_accuracy: 0.9802\n",
      "Epoch 160/200\n",
      "500/500 [==============================] - 2s 5ms/step - loss: 2.5272e-10 - accuracy: 1.0000 - val_loss: 0.2395 - val_accuracy: 0.9802\n",
      "Epoch 161/200\n",
      "500/500 [==============================] - 3s 5ms/step - loss: 2.6226e-10 - accuracy: 1.0000 - val_loss: 0.2393 - val_accuracy: 0.9802\n",
      "Epoch 162/200\n",
      "500/500 [==============================] - 3s 6ms/step - loss: 2.5034e-10 - accuracy: 1.0000 - val_loss: 0.2393 - val_accuracy: 0.9803\n",
      "Epoch 163/200\n"
     ]
    },
    {
     "name": "stdout",
     "output_type": "stream",
     "text": [
      "500/500 [==============================] - 3s 6ms/step - loss: 2.2888e-10 - accuracy: 1.0000 - val_loss: 0.2394 - val_accuracy: 0.9803\n",
      "Epoch 164/200\n",
      "500/500 [==============================] - 2s 5ms/step - loss: 2.2888e-10 - accuracy: 1.0000 - val_loss: 0.2393 - val_accuracy: 0.9803\n",
      "Epoch 165/200\n",
      "500/500 [==============================] - 2s 4ms/step - loss: 2.2888e-10 - accuracy: 1.0000 - val_loss: 0.2394 - val_accuracy: 0.9803\n",
      "Epoch 166/200\n",
      "500/500 [==============================] - 2s 5ms/step - loss: 2.4557e-10 - accuracy: 1.0000 - val_loss: 0.2393 - val_accuracy: 0.9803\n",
      "Epoch 167/200\n",
      "500/500 [==============================] - 2s 4ms/step - loss: 2.0742e-10 - accuracy: 1.0000 - val_loss: 0.2391 - val_accuracy: 0.9803\n",
      "Epoch 168/200\n",
      "500/500 [==============================] - 2s 5ms/step - loss: 2.2650e-10 - accuracy: 1.0000 - val_loss: 0.2392 - val_accuracy: 0.9804\n",
      "Epoch 169/200\n",
      "500/500 [==============================] - 2s 4ms/step - loss: 2.1219e-10 - accuracy: 1.0000 - val_loss: 0.2391 - val_accuracy: 0.9804\n",
      "Epoch 170/200\n",
      "500/500 [==============================] - 2s 4ms/step - loss: 2.1458e-10 - accuracy: 1.0000 - val_loss: 0.2391 - val_accuracy: 0.9804\n",
      "Epoch 171/200\n",
      "500/500 [==============================] - 2s 4ms/step - loss: 1.8120e-10 - accuracy: 1.0000 - val_loss: 0.2391 - val_accuracy: 0.9804\n",
      "Epoch 172/200\n",
      "500/500 [==============================] - 2s 4ms/step - loss: 2.1219e-10 - accuracy: 1.0000 - val_loss: 0.2391 - val_accuracy: 0.9805\n",
      "Epoch 173/200\n",
      "500/500 [==============================] - 2s 4ms/step - loss: 1.9789e-10 - accuracy: 1.0000 - val_loss: 0.2390 - val_accuracy: 0.9805\n",
      "Epoch 174/200\n",
      "500/500 [==============================] - 2s 4ms/step - loss: 1.9073e-10 - accuracy: 1.0000 - val_loss: 0.2389 - val_accuracy: 0.9804\n",
      "Epoch 175/200\n",
      "500/500 [==============================] - 2s 4ms/step - loss: 1.7405e-10 - accuracy: 1.0000 - val_loss: 0.2389 - val_accuracy: 0.9804\n",
      "Epoch 176/200\n",
      "500/500 [==============================] - 2s 4ms/step - loss: 1.7643e-10 - accuracy: 1.0000 - val_loss: 0.2388 - val_accuracy: 0.9804\n",
      "Epoch 177/200\n",
      "500/500 [==============================] - 2s 4ms/step - loss: 1.6212e-10 - accuracy: 1.0000 - val_loss: 0.2388 - val_accuracy: 0.9805\n",
      "Epoch 178/200\n",
      "500/500 [==============================] - 2s 4ms/step - loss: 1.8597e-10 - accuracy: 1.0000 - val_loss: 0.2389 - val_accuracy: 0.9804\n",
      "Epoch 179/200\n",
      "500/500 [==============================] - 2s 4ms/step - loss: 1.7166e-10 - accuracy: 1.0000 - val_loss: 0.2388 - val_accuracy: 0.9804\n",
      "Epoch 180/200\n",
      "500/500 [==============================] - 2s 4ms/step - loss: 1.5736e-10 - accuracy: 1.0000 - val_loss: 0.2387 - val_accuracy: 0.9805\n",
      "Epoch 181/200\n",
      "500/500 [==============================] - 2s 4ms/step - loss: 1.6212e-10 - accuracy: 1.0000 - val_loss: 0.2388 - val_accuracy: 0.9805\n",
      "Epoch 182/200\n",
      "500/500 [==============================] - 2s 4ms/step - loss: 1.6689e-10 - accuracy: 1.0000 - val_loss: 0.2387 - val_accuracy: 0.9804\n",
      "Epoch 183/200\n",
      "500/500 [==============================] - 2s 4ms/step - loss: 1.4782e-10 - accuracy: 1.0000 - val_loss: 0.2387 - val_accuracy: 0.9805\n",
      "Epoch 184/200\n",
      "500/500 [==============================] - 2s 4ms/step - loss: 1.5259e-10 - accuracy: 1.0000 - val_loss: 0.2386 - val_accuracy: 0.9805\n",
      "Epoch 185/200\n",
      "500/500 [==============================] - 2s 4ms/step - loss: 1.4544e-10 - accuracy: 1.0000 - val_loss: 0.2387 - val_accuracy: 0.9805\n",
      "Epoch 186/200\n",
      "500/500 [==============================] - 2s 4ms/step - loss: 1.5736e-10 - accuracy: 1.0000 - val_loss: 0.2386 - val_accuracy: 0.9805\n",
      "Epoch 187/200\n",
      "500/500 [==============================] - 2s 4ms/step - loss: 1.4782e-10 - accuracy: 1.0000 - val_loss: 0.2385 - val_accuracy: 0.9805\n",
      "Epoch 188/200\n",
      "500/500 [==============================] - 2s 4ms/step - loss: 1.4544e-10 - accuracy: 1.0000 - val_loss: 0.2386 - val_accuracy: 0.9805\n",
      "Epoch 189/200\n",
      "500/500 [==============================] - 2s 4ms/step - loss: 1.4305e-10 - accuracy: 1.0000 - val_loss: 0.2385 - val_accuracy: 0.9805\n",
      "Epoch 190/200\n",
      "500/500 [==============================] - 2s 4ms/step - loss: 1.3828e-10 - accuracy: 1.0000 - val_loss: 0.2386 - val_accuracy: 0.9805\n",
      "Epoch 191/200\n",
      "500/500 [==============================] - 2s 4ms/step - loss: 1.5259e-10 - accuracy: 1.0000 - val_loss: 0.2385 - val_accuracy: 0.9804\n",
      "Epoch 192/200\n",
      "500/500 [==============================] - 2s 4ms/step - loss: 1.3113e-10 - accuracy: 1.0000 - val_loss: 0.2385 - val_accuracy: 0.9804\n",
      "Epoch 193/200\n",
      "500/500 [==============================] - 2s 4ms/step - loss: 1.2636e-10 - accuracy: 1.0000 - val_loss: 0.2385 - val_accuracy: 0.9804\n",
      "Epoch 194/200\n",
      "500/500 [==============================] - 2s 4ms/step - loss: 1.3113e-10 - accuracy: 1.0000 - val_loss: 0.2385 - val_accuracy: 0.9803\n",
      "Epoch 195/200\n",
      "500/500 [==============================] - 2s 4ms/step - loss: 1.3351e-10 - accuracy: 1.0000 - val_loss: 0.2385 - val_accuracy: 0.9804\n",
      "Epoch 196/200\n",
      "500/500 [==============================] - 2s 4ms/step - loss: 1.1921e-10 - accuracy: 1.0000 - val_loss: 0.2385 - val_accuracy: 0.9803\n",
      "Epoch 197/200\n",
      "500/500 [==============================] - 2s 4ms/step - loss: 1.2636e-10 - accuracy: 1.0000 - val_loss: 0.2384 - val_accuracy: 0.9803\n",
      "Epoch 198/200\n",
      "500/500 [==============================] - 3s 5ms/step - loss: 1.2398e-10 - accuracy: 1.0000 - val_loss: 0.2384 - val_accuracy: 0.9804\n",
      "Epoch 199/200\n",
      "500/500 [==============================] - 2s 5ms/step - loss: 1.2159e-10 - accuracy: 1.0000 - val_loss: 0.2386 - val_accuracy: 0.9804\n",
      "Epoch 200/200\n",
      "500/500 [==============================] - 2s 4ms/step - loss: 1.1444e-10 - accuracy: 1.0000 - val_loss: 0.2384 - val_accuracy: 0.9804\n"
     ]
    }
   ],
   "source": [
    "from tensorflow import keras\n",
    "\n",
    "print(tf.__version__)\n",
    "print(keras.__version__)\n",
    "\n",
    "from tensorflow.keras.models import Sequential\n",
    "from tensorflow.keras.layers import Dense, Dropout\n",
    "from tensorflow.keras.optimizers import RMSprop\n",
    "\n",
    "batch_size = 100\n",
    "num_classes = 10\n",
    "epochs = 200\n",
    "\n",
    "print(X_train.shape[0], 'train samples')\n",
    "print(X_test.shape[0], 'test samples')\n",
    "\n",
    "## convert class vectors to binary class matrices\n",
    "y_train_c = keras.utils.to_categorical(y_train, num_classes)\n",
    "y_test_c = keras.utils.to_categorical(y_test, num_classes)\n",
    "\n",
    "model = Sequential()\n",
    "model.add(Dense(250, activation='relu', input_shape=(784,)))\n",
    "model.add(Dense( 100, activation='relu'))\n",
    "model.add(Dense(num_classes, activation='softmax'))\n",
    "\n",
    "model.summary()\n",
    "\n",
    "model.compile(loss='categorical_crossentropy',\n",
    "              optimizer='adam',\n",
    "              metrics=['accuracy'])\n",
    "\n",
    "history = model.fit(X_train, y_train_c,\n",
    "                    batch_size=batch_size,\n",
    "                    epochs=epochs,\n",
    "                    verbose=1,\n",
    "                    validation_data=(X_test, y_test_c))"
   ]
  },
  {
   "cell_type": "code",
   "execution_count": 72,
   "metadata": {},
   "outputs": [
    {
     "name": "stdout",
     "output_type": "stream",
     "text": [
      "Test loss: 0.23840875923633575\n",
      "Test accuracy: 0.980400025844574\n"
     ]
    }
   ],
   "source": [
    "score = model.evaluate(X_test, y_test_c, verbose=0)\n",
    "print('Test loss:', score[0])\n",
    "print('Test accuracy:', score[1])"
   ]
  },
  {
   "cell_type": "markdown",
   "metadata": {},
   "source": [
    "You should see the training going through the epochs and in the end the trained network is evaluated on the test set. \n",
    "It shoud reache at least a classification accurary of 97%."
   ]
  },
  {
   "cell_type": "markdown",
   "metadata": {},
   "source": [
    "### Exercise\n",
    "\n",
    "Now try to tune the hyper-parameters of the MLP to achieve more than 98% accuracy.\\\n",
    "List the parameters you changed to achieve this score."
   ]
  }
 ],
 "metadata": {
  "kernelspec": {
   "display_name": "Python 3",
   "language": "python",
   "name": "python3"
  },
  "language_info": {
   "codemirror_mode": {
    "name": "ipython",
    "version": 3
   },
   "file_extension": ".py",
   "mimetype": "text/x-python",
   "name": "python",
   "nbconvert_exporter": "python",
   "pygments_lexer": "ipython3",
   "version": "3.8.5"
  }
 },
 "nbformat": 4,
 "nbformat_minor": 2
}
